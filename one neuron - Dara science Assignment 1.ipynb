{
 "cells": [
  {
   "cell_type": "markdown",
   "metadata": {},
   "source": [
    "### Sujitha Sunkara\n",
    "### Python Basic Assignment 1\n",
    "### Data Scoence Master challenge"
   ]
  },
  {
   "cell_type": "markdown",
   "metadata": {},
   "source": [
    "## 1. In the below elements which of them are values or an expression? eg:- values can be integer or string and expressions will be mathematical operators.\n",
    "\n",
    "###  * --> It is an espression , used for multiplication"
   ]
  },
  {
   "cell_type": "code",
   "execution_count": 10,
   "metadata": {},
   "outputs": [
    {
     "name": "stdout",
     "output_type": "stream",
     "text": [
      "100\n"
     ]
    }
   ],
   "source": [
    "### Example :\n",
    "a =10  # Assigning 10 to a\n",
    "b = 10 # assiigning 10 to b\n",
    "c = a*b  # multiplication of a and b is assigning to variable c \n",
    "print(c)"
   ]
  },
  {
   "cell_type": "code",
   "execution_count": 11,
   "metadata": {},
   "outputs": [
    {
     "name": "stdout",
     "output_type": "stream",
     "text": [
      "<class 'str'>\n"
     ]
    }
   ],
   "source": [
    "### 'hello' --> is a value which is string\n",
    "a = \"hello\"\n",
    "print(type(a))"
   ]
  },
  {
   "cell_type": "code",
   "execution_count": 12,
   "metadata": {},
   "outputs": [
    {
     "name": "stdout",
     "output_type": "stream",
     "text": [
      "<class 'float'>\n"
     ]
    }
   ],
   "source": [
    "### -87.8 is a value which is float\n",
    "a = -87.8\n",
    "print(type(a))"
   ]
  },
  {
   "cell_type": "code",
   "execution_count": 13,
   "metadata": {},
   "outputs": [
    {
     "name": "stdout",
     "output_type": "stream",
     "text": [
      "10\n"
     ]
    }
   ],
   "source": [
    "### - , it is an expression used for subtraction\n",
    "a =20  # Assigning 20 to a\n",
    "b = 10 # assiigning 10 to b\n",
    "c = a-b  \n",
    "print(c)"
   ]
  },
  {
   "cell_type": "code",
   "execution_count": 14,
   "metadata": {},
   "outputs": [
    {
     "name": "stdout",
     "output_type": "stream",
     "text": [
      "2.0\n"
     ]
    }
   ],
   "source": [
    "### / it is an expression used for divison\n",
    "a =20\n",
    "b= 10\n",
    "c = a/b\n",
    "print(c)"
   ]
  },
  {
   "cell_type": "code",
   "execution_count": 15,
   "metadata": {},
   "outputs": [
    {
     "name": "stdout",
     "output_type": "stream",
     "text": [
      "30\n"
     ]
    }
   ],
   "source": [
    "### + it is an expression used for addition\n",
    "a =20\n",
    "b= 10\n",
    "c = a+b\n",
    "print(c)"
   ]
  },
  {
   "cell_type": "code",
   "execution_count": 16,
   "metadata": {},
   "outputs": [
    {
     "name": "stdout",
     "output_type": "stream",
     "text": [
      "<class 'int'>\n"
     ]
    }
   ],
   "source": [
    "### 6 is an value which is integer\n",
    "print(type(6))"
   ]
  },
  {
   "cell_type": "code",
   "execution_count": 17,
   "metadata": {},
   "outputs": [
    {
     "name": "stdout",
     "output_type": "stream",
     "text": [
      "<class 'str'>\n",
      "<class 'str'>\n",
      "<class 'str'>\n"
     ]
    }
   ],
   "source": [
    "## What is the difference between string and variable?\n",
    "### String: A string is a sort of variable value that can be stored. A string is a collection of characters that can be letters, words, phrases, or symbols which can be enclosed with in single quotes, double quotes and triple quotes for multiple lines.\n",
    "a = \"ineuron\"\n",
    "b = 'oneneuron'\n",
    "c = \"\"\"one neuron provides n number of courses.\n",
    "       One neuron courses provide more information.\"\"\"\n",
    "print(type(a))\n",
    "print(type(b))\n",
    "print(type(c))"
   ]
  },
  {
   "cell_type": "markdown",
   "metadata": {},
   "source": [
    "### Variable: Variables are used to store data in a program. Variables can be compared to a box or a container with a label identifying the contents.\n",
    "different types of data can be stored in variable."
   ]
  },
  {
   "cell_type": "markdown",
   "metadata": {},
   "source": [
    "### 3. Describe three different data types.\n",
    "The classification or categorizing of data elements is known as data types. It denotes the kind of value that specifies which operations can be performed on a given set of data. Data types are essentially classes, and variables are instances (objects) of these classes, because everything in Python programming is an object.\n",
    "Following are the standard or built-in data type of Python:\n",
    "1. Numeric - Integer, Float, Complex numbers\n",
    "2. Sequence type - String, list, Tuple\n",
    "3. Boolean\n",
    "4. Set\n",
    "5. Ditionay\n"
   ]
  },
  {
   "cell_type": "markdown",
   "metadata": {},
   "source": [
    "### 4. What is an expression made up of? What do all expressions do?\n",
    "An expression is a construct made up of variables, operators, and method invocations, which are constructed according to the syntax of the language, that evaluates to a single value.\n",
    " If you ask Python to print an expression, the interpreter evaluates the expression and displays the result.\n",
    " Example : \n",
    " a= 10 # It is an expresion where value 10 is assigned to variable a, where = represents operator\n",
    " b =5\n",
    " c = a+b ; a and b values are added using + operator and assigned to c variable\n",
    " "
   ]
  },
  {
   "cell_type": "markdown",
   "metadata": {},
   "source": [
    "### 5. This assignment statements, like spam = 10. What is the difference between an expression and a statement?\n",
    "In programming language terminology, an “expression” is a combination of values and functions that are combined and interpreted by the compiler to create a new value, as opposed to a “statement” which is just a standalone unit of execution and doesn’t return anything.\n",
    "- A Statement is the smallest executable unit of code that has an effect, like creating a variable or displaying a val\n"
   ]
  },
  {
   "cell_type": "markdown",
   "metadata": {},
   "source": [
    "### 6. After running the following code, what does the variable bacon contain?\n",
    "###      bacon = 22\n",
    "###     bacon + 1\n",
    "\n"
   ]
  },
  {
   "cell_type": "code",
   "execution_count": 18,
   "metadata": {},
   "outputs": [
    {
     "data": {
      "text/plain": [
       "23"
      ]
     },
     "execution_count": 18,
     "metadata": {},
     "output_type": "execute_result"
    }
   ],
   "source": [
    "bacon = 22 # assigning interger value 22 to bacon variable \n",
    "\n",
    "bacon + 1  # now, bacon value is 22 and adding 1 to it gives result = 23"
   ]
  },
  {
   "cell_type": "code",
   "execution_count": 19,
   "metadata": {},
   "outputs": [],
   "source": [
    "### 7. 7. What should the values of the following two terms be?\n",
    "\n",
    "### 'spam' + 'spamspam'\n",
    "\n",
    "### 'spam' * 3"
   ]
  },
  {
   "cell_type": "code",
   "execution_count": 20,
   "metadata": {},
   "outputs": [
    {
     "data": {
      "text/plain": [
       "'spamspamspam'"
      ]
     },
     "execution_count": 20,
     "metadata": {},
     "output_type": "execute_result"
    }
   ],
   "source": [
    "'spam' + 'spamspam'  # the string value\"spam\" is added to other string \"spamspam\" - result is concatenation of strings\n"
   ]
  },
  {
   "cell_type": "code",
   "execution_count": 21,
   "metadata": {},
   "outputs": [
    {
     "data": {
      "text/plain": [
       "'spamspamspam'"
      ]
     },
     "execution_count": 21,
     "metadata": {},
     "output_type": "execute_result"
    }
   ],
   "source": [
    "'spam' * 3  # the string value \"spam\" is multiplying 3 ties\n"
   ]
  },
  {
   "cell_type": "markdown",
   "metadata": {},
   "source": [
    "### 8. Why is eggs a valid variable name while 100 is invalid?\n",
    "There are some rules for naming a variable, if rules are not followed it throws an error\n",
    "1.A variable name must start with a letter or an underscore character (_)\n",
    "2.A variable name cannot start with a digit\n",
    "3.A variable name can only contain alpha-numeric characters and underscores (a-z, A-Z, 0-9, and _ )\n",
    "4.Variable names are case-sensitive (age, Age and AGE are three different variables)\n",
    "5.There is no limit on the length of the variable name\n",
    "6.A variable name cannot contain spaces\n",
    "7.The variable name cannot be any Go keywords\n",
    "\n",
    "\n",
    "In the question variable eggs, started witha a letter so it is valid.\n",
    "variable 100 started with integer is invalid .\n"
   ]
  },
  {
   "cell_type": "markdown",
   "metadata": {},
   "source": [
    "### 9. What three functions can be used to get the integer, floating-point number, or string version of a value?\n",
    "The functions to evaluate integer, floating-point number and string version are\n",
    "int()\n",
    "float()\n",
    "string()"
   ]
  },
  {
   "cell_type": "code",
   "execution_count": 22,
   "metadata": {},
   "outputs": [
    {
     "name": "stdout",
     "output_type": "stream",
     "text": [
      "<class 'int'>\n",
      "<class 'float'>\n",
      "<class 'str'>\n"
     ]
    }
   ],
   "source": [
    "a =10\n",
    "b = 5.5\n",
    "c = int(b)\n",
    "d = float(a)\n",
    "e = str(a)\n",
    "print(type(c))\n",
    "print(type(d))\n",
    "print(type(e))"
   ]
  },
  {
   "cell_type": "markdown",
   "metadata": {},
   "source": [
    "### 10. Why does this expression cause an error? How can you fix it?\n",
    "### 'I have eaten' + 99 + 'burritos' \n",
    "The above statement throws error because 99 is an intger and other are strings. The integer value can't concatenate with strings. \n",
    "If we conert integer to string , it runs without any error\n"
   ]
  },
  {
   "cell_type": "code",
   "execution_count": null,
   "metadata": {},
   "outputs": [],
   "source": []
  },
  {
   "cell_type": "code",
   "execution_count": null,
   "metadata": {},
   "outputs": [],
   "source": []
  },
  {
   "cell_type": "code",
   "execution_count": null,
   "metadata": {},
   "outputs": [],
   "source": []
  },
  {
   "cell_type": "code",
   "execution_count": null,
   "metadata": {},
   "outputs": [],
   "source": []
  }
 ],
 "metadata": {
  "kernelspec": {
   "display_name": "Python 3",
   "language": "python",
   "name": "python3"
  },
  "language_info": {
   "codemirror_mode": {
    "name": "ipython",
    "version": 3
   },
   "file_extension": ".py",
   "mimetype": "text/x-python",
   "name": "python",
   "nbconvert_exporter": "python",
   "pygments_lexer": "ipython3",
   "version": "3.8.5"
  }
 },
 "nbformat": 4,
 "nbformat_minor": 4
}
